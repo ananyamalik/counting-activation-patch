{
 "cells": [
  {
   "cell_type": "code",
   "execution_count": 1,
   "metadata": {},
   "outputs": [],
   "source": [
    "import random\n",
    "import pickle\n",
    "import json\n",
    "import torch"
   ]
  },
  {
   "cell_type": "code",
   "execution_count": 2,
   "metadata": {},
   "outputs": [],
   "source": [
    "# with open(\"output/embedding_complete_10000.pkl\", \"rb\") as f:\n",
    "#     data = pickle.load(f)"
   ]
  },
  {
   "cell_type": "code",
   "execution_count": 3,
   "metadata": {},
   "outputs": [],
   "source": [
    "categories = {\n",
    "    \"fruit\": [\"apple\", \"banana\", \"cherry\", \"grape\", \"orange\", \"kiwi\", \"mango\", \"pear\", \"peach\"],\n",
    "    \"animal\": [\"dog\", \"cat\", \"lion\", \"tiger\", \"elephant\", \"bear\", \"wolf\", \"giraffe\", \"zebra\"],\n",
    "    \"vehicle\": [\"car\", \"bus\", \"bike\", \"train\", \"plane\", \"truck\", \"scooter\", \"boat\", \"submarine\"],\n",
    "    \"color\": [\"red\", \"blue\", \"green\", \"yellow\", \"purple\", \"orange\", \"black\", \"white\", \"pink\"],\n",
    "    \"country\": [\"usa\", \"canada\", \"brazil\", \"china\", \"india\", \"germany\", \"france\", \"japan\", \"uganda\"],\n",
    "    \"instrument\": [\"guitar\", \"piano\", \"violin\", \"drums\", \"flute\", \"trumpet\", \"saxophone\"],\n",
    "    \"shape\": [\"circle\", \"square\", \"triangle\", \"rectangle\", \"oval\", \"hexagon\", \"pentagon\"],\n",
    "    \"clothing\": [\"shirt\", \"pants\", \"dress\", \"skirt\", \"hat\", \"jacket\", \"shoes\", \"socks\"]\n",
    "}"
   ]
  },
  {
   "cell_type": "code",
   "execution_count": 4,
   "metadata": {},
   "outputs": [],
   "source": [
    "with open('diverse_count.json', 'r') as f:\n",
    "    data = json.load(f)"
   ]
  },
  {
   "cell_type": "code",
   "execution_count": 5,
   "metadata": {},
   "outputs": [],
   "source": [
    "for items in data:\n",
    "    correct_match = [w.lower() for w in categories[items[\"type\"]]]\n",
    "    count = 0\n",
    "    running_counts = []\n",
    "    for x in items['list']:\n",
    "        if x in correct_match:\n",
    "            count += 1\n",
    "        running_counts.append(count)\n",
    "    items[\"running_count\"] = running_counts"
   ]
  },
  {
   "cell_type": "code",
   "execution_count": 6,
   "metadata": {},
   "outputs": [],
   "source": [
    "with open(\"diverse_count_with_running.json\", \"w\") as f:\n",
    "    json.dump(data, f)"
   ]
  },
  {
   "cell_type": "code",
   "execution_count": null,
   "metadata": {},
   "outputs": [],
   "source": []
  }
 ],
 "metadata": {
  "kernelspec": {
   "display_name": "emotional-safety",
   "language": "python",
   "name": "python3"
  },
  "language_info": {
   "codemirror_mode": {
    "name": "ipython",
    "version": 3
   },
   "file_extension": ".py",
   "mimetype": "text/x-python",
   "name": "python",
   "nbconvert_exporter": "python",
   "pygments_lexer": "ipython3",
   "version": "3.13.7"
  }
 },
 "nbformat": 4,
 "nbformat_minor": 2
}
