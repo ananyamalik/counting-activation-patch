{
 "cells": [
  {
   "cell_type": "code",
   "execution_count": 11,
   "metadata": {},
   "outputs": [],
   "source": [
    "import random\n",
    "import json\n",
    "import pandas as pd\n",
    "from tqdm import tqdm\n",
    "from model import Model\n",
    "import pickle\n",
    "import matplotlib.pyplot as plt"
   ]
  },
  {
   "cell_type": "code",
   "execution_count": 3,
   "metadata": {},
   "outputs": [],
   "source": [
    "filename = \"diverse_count.json\""
   ]
  },
  {
   "cell_type": "code",
   "execution_count": 7,
   "metadata": {},
   "outputs": [],
   "source": [
    "model_names = [\"Llama-2-7b-hf\", \"Mistral-7B-Instruct-v0.2\", \"Meta-Llama-3-8B-Instruct\"]"
   ]
  },
  {
   "cell_type": "code",
   "execution_count": 8,
   "metadata": {},
   "outputs": [],
   "source": [
    "output_data = {}\n",
    "for file_path in model_names:\n",
    "    with open(\"logs/10k_results/\" + file_path + \"_10000.pkl\", 'rb') as file:\n",
    "            output_data[file_path] = pickle.load(file)"
   ]
  },
  {
   "cell_type": "code",
   "execution_count": 13,
   "metadata": {},
   "outputs": [],
   "source": [
    "from model import Model"
   ]
  },
  {
   "cell_type": "code",
   "execution_count": 9,
   "metadata": {},
   "outputs": [
    {
     "name": "stderr",
     "output_type": "stream",
     "text": [
      "`torch_dtype` is deprecated! Use `dtype` instead!\n",
      "Loading checkpoint shards: 100%|██████████| 4/4 [00:07<00:00,  1.89s/it]\n",
      "/home/malik.ana/cbai/model.py:62: SettingWithCopyWarning: \n",
      "A value is trying to be set on a copy of a slice from a DataFrame.\n",
      "Try using .loc[row_indexer,col_indexer] = value instead\n",
      "\n",
      "See the caveats in the documentation: https://pandas.pydata.org/pandas-docs/stable/user_guide/indexing.html#returning-a-view-versus-a-copy\n",
      "  df_abridged['output'] = output\n",
      "/home/malik.ana/cbai/model.py:63: SettingWithCopyWarning: \n",
      "A value is trying to be set on a copy of a slice from a DataFrame.\n",
      "Try using .loc[row_indexer,col_indexer] = value instead\n",
      "\n",
      "See the caveats in the documentation: https://pandas.pydata.org/pandas-docs/stable/user_guide/indexing.html#returning-a-view-versus-a-copy\n",
      "  df_abridged['result'] = df_abridged.apply(lambda row: row['answer'] == row['output'], axis=1)\n",
      "Loading checkpoint shards: 100%|██████████| 4/4 [00:09<00:00,  2.35s/it]\n",
      "/home/malik.ana/cbai/model.py:62: SettingWithCopyWarning: \n",
      "A value is trying to be set on a copy of a slice from a DataFrame.\n",
      "Try using .loc[row_indexer,col_indexer] = value instead\n",
      "\n",
      "See the caveats in the documentation: https://pandas.pydata.org/pandas-docs/stable/user_guide/indexing.html#returning-a-view-versus-a-copy\n",
      "  df_abridged['output'] = output\n",
      "/home/malik.ana/cbai/model.py:63: SettingWithCopyWarning: \n",
      "A value is trying to be set on a copy of a slice from a DataFrame.\n",
      "Try using .loc[row_indexer,col_indexer] = value instead\n",
      "\n",
      "See the caveats in the documentation: https://pandas.pydata.org/pandas-docs/stable/user_guide/indexing.html#returning-a-view-versus-a-copy\n",
      "  df_abridged['result'] = df_abridged.apply(lambda row: row['answer'] == row['output'], axis=1)\n",
      "Loading checkpoint shards: 100%|██████████| 4/4 [00:07<00:00,  1.83s/it]\n",
      "/home/malik.ana/cbai/model.py:62: SettingWithCopyWarning: \n",
      "A value is trying to be set on a copy of a slice from a DataFrame.\n",
      "Try using .loc[row_indexer,col_indexer] = value instead\n",
      "\n",
      "See the caveats in the documentation: https://pandas.pydata.org/pandas-docs/stable/user_guide/indexing.html#returning-a-view-versus-a-copy\n",
      "  df_abridged['output'] = output\n",
      "/home/malik.ana/cbai/model.py:63: SettingWithCopyWarning: \n",
      "A value is trying to be set on a copy of a slice from a DataFrame.\n",
      "Try using .loc[row_indexer,col_indexer] = value instead\n",
      "\n",
      "See the caveats in the documentation: https://pandas.pydata.org/pandas-docs/stable/user_guide/indexing.html#returning-a-view-versus-a-copy\n",
      "  df_abridged['result'] = df_abridged.apply(lambda row: row['answer'] == row['output'], axis=1)\n"
     ]
    }
   ],
   "source": [
    "final = {}\n",
    "for model_name in model_names:\n",
    "    m = Model(\"meta-llama/Meta-Llama-3-8B-Instruct\", filename)\n",
    "    accuracy = m.calc_res(output_data[model_name], num=10000)\n",
    "    final[model_name] = accuracy"
   ]
  },
  {
   "cell_type": "code",
   "execution_count": 21,
   "metadata": {},
   "outputs": [
    {
     "name": "stdout",
     "output_type": "stream",
     "text": [
      "Model                |   Accuracy\n",
      "---------------------------------\n",
      "\n",
      "Llama-2-7b-hf        |     0.1089\n",
      "\n",
      "Mistral-7B-Instruct-v0.2 |     0.2716\n",
      "\n",
      "Meta-Llama-3-8B-Instruct |     0.5062\n"
     ]
    }
   ],
   "source": [
    "print(f\"{'Model':<20} | {'Accuracy':>10}\")\n",
    "print(\"-\" * 33)\n",
    "\n",
    "for f in model_names:\n",
    "    print()\n",
    "    print(f\"{f:<20} | {final[f]:>10.4f}\")"
   ]
  },
  {
   "cell_type": "code",
   "execution_count": 13,
   "metadata": {},
   "outputs": [
    {
     "data": {
      "text/plain": [
       "(0.0, 1.0)"
      ]
     },
     "execution_count": 13,
     "metadata": {},
     "output_type": "execute_result"
    },
    {
     "data": {
      "image/png": "[encoded data removed]",
      "text/plain": [
       "<Figure size 700x400 with 1 Axes>"
      ]
     },
     "metadata": {},
     "output_type": "display_data"
    }
   ],
   "source": [
    "plt.figure(figsize=(7, 4))\n",
    "plt.barh(final.keys(), final.values(), color=\"skyblue\")\n",
    "plt.xlabel(\"Accuracy\")\n",
    "plt.title(\"Zero-shot Benchmark Accuracy (10,000 examples)\")\n",
    "plt.xlim(0, 1)\n"
   ]
  },
  {
   "cell_type": "code",
   "execution_count": null,
   "metadata": {},
   "outputs": [],
   "source": []
  }
 ],
 "metadata": {
  "kernelspec": {
   "display_name": "cbai_test_bau",
   "language": "python",
   "name": "python3"
  },
  "language_info": {
   "codemirror_mode": {
    "name": "ipython",
    "version": 3
   },
   "file_extension": ".py",
   "mimetype": "text/x-python",
   "name": "python",
   "nbconvert_exporter": "python",
   "pygments_lexer": "ipython3",
   "version": "3.13.7"
  }
 },
 "nbformat": 4,
 "nbformat_minor": 2
}
